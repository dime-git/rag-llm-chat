{
 "cells": [
  {
   "cell_type": "code",
   "execution_count": 4,
   "metadata": {},
   "outputs": [
    {
     "name": "stderr",
     "output_type": "stream",
     "text": [
      "USER_AGENT environment variable not set, consider setting it to identify your requests.\n"
     ]
    },
    {
     "data": {
      "text/plain": [
       "True"
      ]
     },
     "execution_count": 4,
     "metadata": {},
     "output_type": "execute_result"
    }
   ],
   "source": [
    "import os\n",
    "import dotenv\n",
    "from pathlib import Path\n",
    "\n",
    "from langchain_core.messages import AIMessage, HumanMessage\n",
    "from langchain_community.document_loaders.text import TextLoader\n",
    "from langchain_community.document_loaders import (\n",
    "    WebBaseLoader, \n",
    "    PyPDFLoader, \n",
    "    Docx2txtLoader,\n",
    ")\n",
    "\n",
    "from langchain_community.vectorstores import Chroma\n",
    "from langchain.text_splitter import RecursiveCharacterTextSplitter\n",
    "from langchain_openai import OpenAIEmbeddings, ChatOpenAI\n",
    "from langchain_anthropic import ChatAnthropic\n",
    "from langchain_core.prompts import ChatPromptTemplate, MessagesPlaceholder\n",
    "from langchain.chains import create_history_aware_retriever, create_retrieval_chain\n",
    "from langchain.chains.combine_documents import create_stuff_documents_chain\n",
    "\n",
    "dotenv.load_dotenv()"
   ]
  },
  {
   "cell_type": "code",
   "execution_count": 5,
   "metadata": {},
   "outputs": [],
   "source": [
    "#Load the documents\n",
    "doc_paths = [\n",
    "    \"docs/test_rag.pdf\",\n",
    "    \"docs/test_rag.docx\"\n",
    "]\n",
    "\n",
    "docs = []\n",
    "for doc_file in doc_paths:\n",
    "    file_path = Path(doc_file)\n",
    "    \n",
    "    try:\n",
    "        if doc_file.endswith('.pdf'):\n",
    "            loader = PyPDFLoader(file_path)\n",
    "        elif doc_file.endswith('.docx'):\n",
    "            loader = Docx2txtLoader(file_path)\n",
    "        elif doc_file.endswith('.txt') or doc_file.endswith(\".md\"):\n",
    "            loader = TextLoader(file_path)\n",
    "        else:\n",
    "            print(f\"Document type {doc_file.type} not supported\")\n",
    "            continue\n",
    "\n",
    "        docs.extend(loader.load())\n",
    "\n",
    "    except Exception as e:\n",
    "        print(f\"Error loading document {doc_file}: {e}\")\n",
    "\n",
    "\n",
    "#Load from url\n",
    "url = 'https://docs.streamlit.io/develop/quick-reference/release-notes'\n",
    "try:\n",
    "    loader = WebBaseLoader(url)\n",
    "    docs.extend(loader.load())\n",
    "except Exception as e:\n",
    "    print(f\"Error loading document from {url}: {e}\")\n"
   ]
  },
  {
   "cell_type": "code",
   "execution_count": 6,
   "metadata": {},
   "outputs": [
    {
     "data": {
      "text/plain": [
       "[Document(metadata={'source': 'docs\\\\test_rag.pdf', 'page': 0}, page_content='My favorite food is margarita pizza.  \\nThere are 47588 bottles in the tr uck.  '),\n",
       " Document(metadata={'source': 'docs\\\\test_rag.docx'}, page_content='My favorite food is margarita pizza.\\n\\nThere are 47588 bottles in the truck.'),\n",
       " Document(metadata={'source': 'https://docs.streamlit.io/develop/quick-reference/release-notes', 'title': 'Release notes - Streamlit Docs', 'description': 'A changelog of highlights and fixes for each version of Streamlit.', 'language': 'No language found.'}, page_content='Release notes - Streamlit DocsDocumentationsearchSearchrocket_launchGet startedInstallationaddFundamentalsaddFirst stepsaddcodeDevelopConceptsaddAPI referenceaddTutorialsaddQuick referenceremoveCheat sheetRelease notesremove2025202420232022202120202019Pre-release featuresRoadmapopen_in_newweb_assetDeployConceptsaddStreamlit Community CloudaddSnowflakeOther platformsaddschoolKnowledge baseFAQInstalling dependenciesDeployment issuesHome/Develop/Quick reference/Release notesRelease notes\\nThis page lists highlights, bug fixes, and known issues for the latest release of Streamlit. If you\\'re looking for information about nightly releases or experimental features, see Pre-release features.\\nUpgrade Streamlit\\nstarTipTo upgrade to the latest version of Streamlit, run:pip install --upgrade streamlit\\n\\nVersion 1.44.0 (latest)\\nRelease date: March 25, 2025\\nHighlights\\n\\n💈\\xa0Introducing advanced theming options! Use an assortment of configuration options to customize the appearance of your app. Change the fonts, colors, and roundness of your app without CSS.\\n👮\\xa0Introducing st.badge to insert a colored badge element. You can also include badges in Markdown using a new directive.\\n🏗️\\xa0Use streamlit init in your terminal to create all the local files you need for a new Streamlit app.\\n\\nNotable Changes\\n\\n🤖\\xa0st.exception includes links to open Google or ChatGPT with the contents of the exception. This includes uncaught exceptions displayed in the app.\\n🗺️\\xa0You can access the user\\'s locale through st.context (#10563).\\n\\nOther Changes\\n\\n📄\\xa0When using a pages/ directory to automatically generate a multipage app, no pages (including the entrypoint file) can have the same inferred URL pathname (#10276).\\n🏎️\\xa0To improve performance, Streamlit uses the React 18 createRoot API for its frontend (#10453).\\n📝\\xa0To improve compatibility with AI tools, script compilation errors are logged when logger.level=\"error\" and not just when logger.level=\"debug\" (#10826).\\n🪵\\xa0Streamlit automatically enables more detailed logging if rich is installed (#10650).\\n🔢\\xa0st.slider and st.number_input raise an error when assigned a value in excess of a declared minimum or maximum (#9964, #9342).\\n🛠️\\xa0st.table support pandas Styler.set_tooltips() (#10561, #10553).\\nℹ️\\xa0Material symbols have been updated to the latest icon set (#10813, #10717).\\n🦋\\xa0Visual tweaks to headers (#10599).\\n🦀\\xa0Bug fix: st.html displays correctly when used inside st.tabs (#10825, #10815).\\n🦎\\xa0Bug fix: For backwards compatibility, theme.font=\"sans serfi\" is internally converted to the new theme.font=\"sans-serif\" (#10789, #10786).\\n🐌\\xa0Bug fix: When using st.secrets, if Streamlit can\\'t find the secrets.toml file, it will raise a FileNotFoundError (#10508, #8559).\\n🕸️\\xa0Bug fix: st.secrets raises a clear TypeError if you try to assign a value to an attribute (#10698, #10107).\\n🦗\\xa0Bug fix: In single-page apps, st.page_link does not highlight external links as if they are the current page (#10690, #10689).\\n🦂\\xa0Bug fix: st.poppover displays at the correct width when using the help parameter (#10709, #10693).\\n🦟\\xa0Bug fix: All components (and custom components) that read their width from the DOM initially load with a width of -1 px to prevent flickering (#10712, #10672, #10663, #10644).\\n🦠\\xa0Bug fix: When st.number_input is configured to use integers, the default minimum and maximum values will prevent integer overflow (#10655, #6740).\\n🪰\\xa0Bug fix: st.navigation uses immutable types to prevent mypy errors (#10670).\\n🪳\\xa0Bug fix: Custom components correctly inherit font from theme configuration (#10661, #10660).\\n🕷️\\xa0Bug fix: Dataframes correctly support Dask data objects (#10662).\\n🐞\\xa0Bug fix: Button widths are correct when using the help parameter (#10658, #10648, #10656).\\n🐝\\xa0Bug fix: Scrolling is disabled when hovering over st.number_input to prevent accidental value changes (#10642, #8867).\\n🐜\\xa0Bug fix: st.chat_input gives a clear error in the UI when the file size limit is exceeded (#10530).\\n🪲\\xa0Bug fix: The favicon and Markdown emojis use the same SVG emoji source for consistency (#10539, #6822).\\n🐛\\xa0Bug fix: The dataframe search bar is more responsive to width (#10534, #10532).\\n\\nOlder versions of Streamlit\\n\\n2025 release notes\\n2024 release notes\\n2023 release notes\\n2022 release notes\\n2021 release notes\\n2020 release notes\\n2019 release notes\\nPrevious: Cheat sheetNext: 2025forumStill have questions?Our forums are full of helpful information and Streamlit experts.HomeContact UsCommunity© 2025 Snowflake Inc.Cookie policyforum Ask AI')]"
      ]
     },
     "execution_count": 6,
     "metadata": {},
     "output_type": "execute_result"
    }
   ],
   "source": [
    "docs"
   ]
  },
  {
   "cell_type": "code",
   "execution_count": 7,
   "metadata": {},
   "outputs": [],
   "source": [
    "#Splitting the documents\n",
    "\n",
    "text_splitter = RecursiveCharacterTextSplitter(\n",
    "    chunk_size = 5000,\n",
    "    chunk_overlap = 1000\n",
    ")\n",
    "\n",
    "documents_chunk = text_splitter.split_documents(docs)"
   ]
  },
  {
   "cell_type": "code",
   "execution_count": 8,
   "metadata": {},
   "outputs": [],
   "source": [
    "#Tokenize and load the documents to the vector store\n",
    "vector_db = Chroma.from_documents(\n",
    "    documents=documents_chunk,\n",
    "    embedding=OpenAIEmbeddings()\n",
    ")"
   ]
  },
  {
   "cell_type": "code",
   "execution_count": 9,
   "metadata": {},
   "outputs": [],
   "source": [
    "# Retrieve\n",
    "\n",
    "def _get_context_retriever_chain(vector_db, llm):\n",
    "    retriever = vector_db.as_retriever()\n",
    "    prompt = ChatPromptTemplate.from_messages([\n",
    "        MessagesPlaceholder(variable_name=\"messages\"),\n",
    "        (\"user\", \"{input}\"),\n",
    "        (\"user\", \"Given the above conversation, generate a search query to look up in order to get inforamtion relevant to the conversation, focusing on the most recent messages.\"),\n",
    "    ])\n",
    "    retriever_chain = create_history_aware_retriever(llm, retriever, prompt)\n",
    "\n",
    "    return retriever_chain"
   ]
  },
  {
   "cell_type": "code",
   "execution_count": 10,
   "metadata": {},
   "outputs": [],
   "source": [
    "def get_conversational_rag_chain(llm):\n",
    "    retriever_chain = _get_context_retriever_chain(vector_db, llm)\n",
    "\n",
    "    prompt = ChatPromptTemplate.from_messages([\n",
    "        (\"system\",\n",
    "        \"\"\"You are a helpful assistant. You will have to answer to user's queries.\n",
    "        You will have some context to help with your answers, but now always would be completely related or helpful.\n",
    "        You can also use your knowledge to assist answering the user's queries.\\n\n",
    "        {context}\"\"\"),\n",
    "        MessagesPlaceholder(variable_name=\"messages\"),\n",
    "        (\"user\", \"{input}\"),\n",
    "    ])\n",
    "    stuff_documents_chain = create_stuff_documents_chain(llm, prompt)\n",
    "\n",
    "    return create_retrieval_chain(retriever_chain, stuff_documents_chain)"
   ]
  },
  {
   "cell_type": "code",
   "execution_count": 12,
   "metadata": {},
   "outputs": [
    {
     "name": "stderr",
     "output_type": "stream",
     "text": [
      "Number of requested results 4 is greater than number of elements in index 3, updating n_results = 3\n"
     ]
    },
    {
     "name": "stdout",
     "output_type": "stream",
     "text": [
      "The latest version of Streamlit is 1.44.0, released on March 25, 2025. Here are some of the highlights and features of this release:\n",
      "\n",
      "1. **Advanced Theming Options**: You can now customize the appearance of your app with an assortment of configuration options, allowing you to change fonts, colors, and roundness without using CSS.\n",
      "\n",
      "2. **st.badge**: A new feature to insert a colored badge element. You can also include badges in Markdown using a new directive.\n",
      "\n",
      "3. **streamlit init**: A command to create all the local files you need for a new Streamlit app.\n",
      "\n",
      "Additionally, there are several notable changes and bug fixes, such as:\n",
      "\n",
      "- **st.exception**: Now includes links to open Google or ChatGPT with the contents of the exception.\n",
      "- **User's Locale Access**: You can access the user's locale through `st.context`.\n",
      "- **Improved Performance**: Streamlit uses the React 18 `createRoot` API for its frontend to improve performance.\n",
      "- **Compatibility with AI Tools**: Script compilation errors are logged at the \"error\" level for better compatibility with AI tools.\n",
      "\n",
      "These are just a few of the updates in the latest release. Let me know if you need more information on any specific feature!"
     ]
    }
   ],
   "source": [
    "# Augmented Generation\n",
    "\n",
    "llm_stream_openai = ChatOpenAI(\n",
    "    model=\"gpt-4o\",\n",
    "    temperature=0.3,\n",
    "    streaming=True,\n",
    ")\n",
    "\n",
    "llm_stream_anthropic = ChatAnthropic(\n",
    "    model=\"claude-3-5-sonnet-20240620\",\n",
    "    temperature=0.3,\n",
    "    streaming=True,\n",
    ")\n",
    "\n",
    "llm_stream = llm_stream_openai  # Select between OpenAI and Anthropic models for the response\n",
    "\n",
    "messages = [\n",
    "    {\"role\": \"user\", \"content\": \"Hi\"},\n",
    "    {\"role\": \"assistant\", \"content\": \"Hi there! How can I assist you today?\"},\n",
    "    {\"role\": \"user\", \"content\": \"What is the latest version of Streamlit?\"},\n",
    "    {\"role\": \"user\", \"content\": \"What are the latest features on Streamlit?\"},\n",
    "]\n",
    "messages = [HumanMessage(content=m[\"content\"]) if m[\"role\"] == \"user\" else AIMessage(content=m[\"content\"]) for m in messages]\n",
    "\n",
    "conversation_rag_chain = get_conversational_rag_chain(llm_stream)\n",
    "response_message = \"*(RAG Response)*\\n\"\n",
    "for chunk in conversation_rag_chain.pick(\"answer\").stream({\"messages\": messages[:-1], \"input\": messages[-1].content}):\n",
    "    response_message += chunk\n",
    "    print(chunk, end=\"\", flush=True)\n",
    "\n",
    "messages.append({\"role\": \"assistant\", \"content\": response_message})"
   ]
  },
  {
   "cell_type": "code",
   "execution_count": null,
   "metadata": {},
   "outputs": [],
   "source": []
  }
 ],
 "metadata": {
  "kernelspec": {
   "display_name": "venv",
   "language": "python",
   "name": "python3"
  },
  "language_info": {
   "codemirror_mode": {
    "name": "ipython",
    "version": 3
   },
   "file_extension": ".py",
   "mimetype": "text/x-python",
   "name": "python",
   "nbconvert_exporter": "python",
   "pygments_lexer": "ipython3",
   "version": "3.12.6"
  }
 },
 "nbformat": 4,
 "nbformat_minor": 2
}
